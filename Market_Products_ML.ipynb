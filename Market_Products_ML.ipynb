{
  "nbformat": 4,
  "nbformat_minor": 0,
  "metadata": {
    "colab": {
      "provenance": []
    },
    "kernelspec": {
      "name": "python3",
      "display_name": "Python 3"
    },
    "language_info": {
      "name": "python"
    }
  },
  "cells": [
    {
      "cell_type": "code",
      "execution_count": null,
      "metadata": {
        "colab": {
          "base_uri": "https://localhost:8080/"
        },
        "id": "-bKrPXOy86O6",
        "outputId": "e1d444f7-4fba-4aa6-fc5d-27487c02b695"
      },
      "outputs": [
        {
          "output_type": "stream",
          "name": "stderr",
          "text": [
            "/usr/local/lib/python3.10/dist-packages/ipykernel/ipkernel.py:283: DeprecationWarning: `should_run_async` will not call `transform_cell` automatically in the future. Please pass the result to `transformed_cell` argument and any exception that happen during thetransform in `preprocessing_exc_tuple` in IPython 7.17 and above.\n",
            "  and should_run_async(code)\n"
          ]
        },
        {
          "output_type": "stream",
          "name": "stdout",
          "text": [
            "Requirement already satisfied: mlxtend in /usr/local/lib/python3.10/dist-packages (0.22.0)\n",
            "Requirement already satisfied: pandas in /usr/local/lib/python3.10/dist-packages (1.5.3)\n",
            "Requirement already satisfied: scipy>=1.2.1 in /usr/local/lib/python3.10/dist-packages (from mlxtend) (1.11.4)\n",
            "Requirement already satisfied: numpy>=1.16.2 in /usr/local/lib/python3.10/dist-packages (from mlxtend) (1.23.5)\n",
            "Requirement already satisfied: scikit-learn>=1.0.2 in /usr/local/lib/python3.10/dist-packages (from mlxtend) (1.2.2)\n",
            "Requirement already satisfied: matplotlib>=3.0.0 in /usr/local/lib/python3.10/dist-packages (from mlxtend) (3.7.1)\n",
            "Requirement already satisfied: joblib>=0.13.2 in /usr/local/lib/python3.10/dist-packages (from mlxtend) (1.3.2)\n",
            "Requirement already satisfied: setuptools in /usr/local/lib/python3.10/dist-packages (from mlxtend) (67.7.2)\n",
            "Requirement already satisfied: python-dateutil>=2.8.1 in /usr/local/lib/python3.10/dist-packages (from pandas) (2.8.2)\n",
            "Requirement already satisfied: pytz>=2020.1 in /usr/local/lib/python3.10/dist-packages (from pandas) (2023.3.post1)\n",
            "Requirement already satisfied: contourpy>=1.0.1 in /usr/local/lib/python3.10/dist-packages (from matplotlib>=3.0.0->mlxtend) (1.2.0)\n",
            "Requirement already satisfied: cycler>=0.10 in /usr/local/lib/python3.10/dist-packages (from matplotlib>=3.0.0->mlxtend) (0.12.1)\n",
            "Requirement already satisfied: fonttools>=4.22.0 in /usr/local/lib/python3.10/dist-packages (from matplotlib>=3.0.0->mlxtend) (4.47.2)\n",
            "Requirement already satisfied: kiwisolver>=1.0.1 in /usr/local/lib/python3.10/dist-packages (from matplotlib>=3.0.0->mlxtend) (1.4.5)\n",
            "Requirement already satisfied: packaging>=20.0 in /usr/local/lib/python3.10/dist-packages (from matplotlib>=3.0.0->mlxtend) (23.2)\n",
            "Requirement already satisfied: pillow>=6.2.0 in /usr/local/lib/python3.10/dist-packages (from matplotlib>=3.0.0->mlxtend) (9.4.0)\n",
            "Requirement already satisfied: pyparsing>=2.3.1 in /usr/local/lib/python3.10/dist-packages (from matplotlib>=3.0.0->mlxtend) (3.1.1)\n",
            "Requirement already satisfied: six>=1.5 in /usr/local/lib/python3.10/dist-packages (from python-dateutil>=2.8.1->pandas) (1.16.0)\n",
            "Requirement already satisfied: threadpoolctl>=2.0.0 in /usr/local/lib/python3.10/dist-packages (from scikit-learn>=1.0.2->mlxtend) (3.2.0)\n"
          ]
        }
      ],
      "source": [
        "pip install mlxtend pandas"
      ]
    },
    {
      "cell_type": "code",
      "source": [
        "import asyncio\n",
        "import nest_asyncio\n",
        "from mlxtend.preprocessing import TransactionEncoder\n",
        "from mlxtend.frequent_patterns import apriori, association_rules\n",
        "import pandas as pd\n",
        "\n",
        "# Carregar produtos comprados\n",
        "\n",
        "def recommend(user_product, rules):\n",
        "    product_list = rules['antecedents'].explode().unique().tolist() + rules['consequents'].explode().unique().tolist()\n",
        "    recommend = set()\n",
        "\n",
        "    for product in user_product:\n",
        "        items = rules[rules['antecedents'].apply(lambda x, product=product: product in x)]['consequents'].tolist()\n",
        "        for item in items:\n",
        "            recommend.update(item)\n",
        "    recommend -= set(user_product)\n",
        "    return list(recommend)\n",
        "\n",
        "def main():\n",
        "    product = pd.read_csv('https://raw.githubusercontent.com/gustavolace/MLpython/main/products.csv')\n",
        "    sales = pd.read_csv('https://raw.githubusercontent.com/gustavolace/MLpython/main/sales.csv')\n",
        "    product_sales = [products.split(',') for products in sales['produtos_comprados']]\n",
        "\n",
        "    te = TransactionEncoder()\n",
        "    te_ary = te.fit(product_sales).transform(product_sales)\n",
        "    df_transacoes = pd.DataFrame(te_ary, columns=te.columns_)\n",
        "\n",
        "    frequent_itemsets = apriori(df_transacoes, min_support=0.01, use_colnames=True)\n",
        "    rules = association_rules(frequent_itemsets, metric=\"confidence\", min_threshold=0.5)\n",
        "\n",
        "    print(\"Lista de Produtos:\")\n",
        "    print('\\n'.join(product['produto'].tolist()))  # Imprimir lista com quebra de linha\n",
        "\n",
        "    produtos_inseridos = input('\\nInsira os produtos que você comprou (separados por vírgula): ')\n",
        "    produtos_sugeridos = recommend(produtos_inseridos.split(','), rules)\n",
        "    print(f'Produtos sugeridos: {produtos_sugeridos}')\n",
        "\n",
        "if __name__ == '__main__':\n",
        "    nest_asyncio.apply()\n",
        "    main()\n"
      ],
      "metadata": {
        "colab": {
          "base_uri": "https://localhost:8080/"
        },
        "id": "1FwZG2QMBTx9",
        "outputId": "3f80c1a0-5ef0-4f58-e8c5-cdccc3f6c529"
      },
      "execution_count": null,
      "outputs": [
        {
          "output_type": "stream",
          "name": "stderr",
          "text": [
            "/usr/local/lib/python3.10/dist-packages/ipykernel/ipkernel.py:283: DeprecationWarning: `should_run_async` will not call `transform_cell` automatically in the future. Please pass the result to `transformed_cell` argument and any exception that happen during thetransform in `preprocessing_exc_tuple` in IPython 7.17 and above.\n",
            "  and should_run_async(code)\n"
          ]
        },
        {
          "output_type": "stream",
          "name": "stdout",
          "text": [
            "Lista de Produtos:\n",
            "Pão\n",
            "Manteiga\n",
            "Café\n",
            "Leite\n",
            "Arroz\n",
            "Feijão\n",
            "Óleo de Soja\n",
            "Carne\n",
            "Pasta de Dentes\n",
            "Escova de Dentes\n",
            "Desinfetante\n",
            "Detergente\n",
            "Queijo\n",
            "Presunto\n",
            "Açúcar\n",
            "Fraldas\n",
            "Lenços Umedecidos\n",
            "Tomate\n",
            "Cebola\n",
            "Alho\n",
            "Soda\n",
            "Salgadinho\n",
            "Shampoo\n",
            "Condicionador\n",
            "Sabonete\n",
            "Mostarda\n",
            "Maçã\n",
            "Banana\n",
            "Laranja\n",
            "Chá\n",
            "Frango\n",
            "Milho\n",
            "Geleia\n",
            "Peixe\n",
            "Limão\n",
            "Coentro\n",
            "Pano de Limpeza\n",
            "Biscoitos\n",
            "Ovos\n",
            "Bacon\n",
            "Torradas\n",
            "Legumes\n",
            "Toalha de Banho\n",
            "Macarrão\n",
            "Molho de Tomate\n",
            "Creme Dental\n",
            "Fio Dental\n",
            "Pizza\n",
            "Refrigerante\n",
            "\n",
            "Insira os produtos que você comprou (separados por vírgula): Pizza\n",
            "Produtos sugeridos: ['Refrigerante']\n"
          ]
        }
      ]
    }
  ]
}