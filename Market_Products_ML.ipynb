{
  "nbformat": 4,
  "nbformat_minor": 0,
  "metadata": {
    "colab": {
      "provenance": []
    },
    "kernelspec": {
      "name": "python3",
      "display_name": "Python 3"
    },
    "language_info": {
      "name": "python"
    }
  },
  "cells": [
    {
      "cell_type": "code",
      "execution_count": null,
      "metadata": {
        "id": "-bKrPXOy86O6"
      },
      "outputs": [],
      "source": [
        "pip install mlxtend pandas"
      ]
    },
    {
      "cell_type": "code",
      "source": [
        "import asyncio\n",
        "import nest_asyncio\n",
        "from mlxtend.preprocessing import TransactionEncoder\n",
        "from mlxtend.frequent_patterns import apriori, association_rules\n",
        "import pandas as pd\n",
        "\n",
        "# Carregar produtos comprados\n",
        "\n",
        "def recommend(user_product, rules):\n",
        "    product_list = rules['antecedents'].explode().unique().tolist() + rules['consequents'].explode().unique().tolist()\n",
        "    recommend = set()\n",
        "\n",
        "    for product in user_product:\n",
        "        items = rules[rules['antecedents'].apply(lambda x, product=product: product in x)]['consequents'].tolist()\n",
        "        for item in items:\n",
        "            recommend.update(item)\n",
        "    recommend -= set(user_product)\n",
        "    return list(recommend)\n",
        "\n",
        "def main():\n",
        "    product = pd.read_csv('https://raw.githubusercontent.com/gustavolace/MLpython/main/products.csv')\n",
        "    sales = pd.read_csv('https://raw.githubusercontent.com/gustavolace/MLpython/main/sales.csv')\n",
        "    product_sales = [products.split(',') for products in sales['produtos_comprados']]\n",
        "\n",
        "    te = TransactionEncoder()\n",
        "    te_ary = te.fit(product_sales).transform(product_sales)\n",
        "    df_transacoes = pd.DataFrame(te_ary, columns=te.columns_)\n",
        "\n",
        "    frequent_itemsets = apriori(df_transacoes, min_support=0.01, use_colnames=True)\n",
        "    rules = association_rules(frequent_itemsets, metric=\"confidence\", min_threshold=0.5)\n",
        "\n",
        "    print(\"Lista de Produtos:\")\n",
        "    print('\\n'.join(product['produto'].tolist()))  # Imprimir lista com quebra de linha\n",
        "\n",
        "    produtos_inseridos = input('\\nInsira os produtos que você comprou (separados por vírgula): ')\n",
        "    produtos_sugeridos = recommend(produtos_inseridos.split(','), rules)\n",
        "    print(f'Produtos sugeridos: {produtos_sugeridos}')\n",
        "\n",
        "if __name__ == '__main__':\n",
        "    nest_asyncio.apply()\n",
        "    main()\n"
      ],
      "metadata": {
        "id": "1FwZG2QMBTx9"
      },
      "execution_count": null,
      "outputs": []
    }
  ]
}